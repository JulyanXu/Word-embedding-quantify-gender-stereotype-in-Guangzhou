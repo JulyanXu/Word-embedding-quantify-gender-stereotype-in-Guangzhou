{
 "cells": [
  {
   "cell_type": "markdown",
   "id": "74b9a7d1",
   "metadata": {},
   "source": [
    "Load the content data from guangzhou_content.txt."
   ]
  },
  {
   "cell_type": "code",
   "execution_count": 1,
   "id": "025c983b",
   "metadata": {
    "ExecuteTime": {
     "end_time": "2023-08-19T12:55:05.405208Z",
     "start_time": "2023-08-19T12:55:05.347061900Z"
    }
   },
   "outputs": [],
   "source": [
    "# Load content data\n",
    "with open(r'guangzhou_content.txt', 'r',encoding='utf-8') as file:\n",
    "    content = file.read()"
   ]
  },
  {
   "cell_type": "code",
   "execution_count": 2,
   "id": "10897950",
   "metadata": {
    "ExecuteTime": {
     "end_time": "2023-08-19T12:55:49.285143200Z",
     "start_time": "2023-08-19T12:55:46.538109500Z"
    }
   },
   "outputs": [
    {
     "data": {
      "text/plain": [
       "[['the',\n",
       "  'finals',\n",
       "  'of',\n",
       "  'the',\n",
       "  'th',\n",
       "  'shanghai',\n",
       "  'international',\n",
       "  'youth',\n",
       "  'piano',\n",
       "  'competition',\n",
       "  'which',\n",
       "  'was',\n",
       "  'held',\n",
       "  'from',\n",
       "  'aug',\n",
       "  'to',\n",
       "  'drew',\n",
       "  'nearly',\n",
       "  'contestants',\n",
       "  'who',\n",
       "  'were',\n",
       "  'selected',\n",
       "  'from',\n",
       "  'tens',\n",
       "  'of',\n",
       "  'thousands',\n",
       "  'of',\n",
       "  'children',\n",
       "  'and',\n",
       "  'adolescents',\n",
       "  'from',\n",
       "  'provincial',\n",
       "  'level',\n",
       "  'administrative',\n",
       "  'regions',\n",
       "  'all',\n",
       "  'over',\n",
       "  'the',\n",
       "  'country'],\n",
       " ['according',\n",
       "  'to',\n",
       "  'the',\n",
       "  'organizers',\n",
       "  'the',\n",
       "  'number',\n",
       "  'of',\n",
       "  'participants',\n",
       "  'taking',\n",
       "  'part',\n",
       "  'in',\n",
       "  'the',\n",
       "  'finals',\n",
       "  'this',\n",
       "  'year',\n",
       "  'was',\n",
       "  'record',\n",
       "  'high',\n",
       "  'and',\n",
       "  'this',\n",
       "  'indicates',\n",
       "  'that',\n",
       "  'the',\n",
       "  'love',\n",
       "  'for',\n",
       "  'the',\n",
       "  'keyboard',\n",
       "  'instrument',\n",
       "  'is',\n",
       "  'still',\n",
       "  'going',\n",
       "  'strong',\n",
       "  'in',\n",
       "  'china'],\n",
       " ['today',\n",
       "  'piano',\n",
       "  'lessons',\n",
       "  'are',\n",
       "  'one',\n",
       "  'of',\n",
       "  'the',\n",
       "  'most',\n",
       "  'common',\n",
       "  'forms',\n",
       "  'of',\n",
       "  'extracurricular',\n",
       "  'activities',\n",
       "  'that',\n",
       "  'chinese',\n",
       "  'parents',\n",
       "  'plan',\n",
       "  'for',\n",
       "  'their',\n",
       "  'children'],\n",
       " ['while',\n",
       "  'some',\n",
       "  'may',\n",
       "  'argue',\n",
       "  'that',\n",
       "  'many',\n",
       "  'of',\n",
       "  'these',\n",
       "  'children',\n",
       "  'don',\n",
       "  'have',\n",
       "  'choice',\n",
       "  'in',\n",
       "  'attending',\n",
       "  'these',\n",
       "  'lessons',\n",
       "  'those',\n",
       "  'taking',\n",
       "  'part',\n",
       "  'in',\n",
       "  'the',\n",
       "  'competition',\n",
       "  'can',\n",
       "  'personally',\n",
       "  'attest',\n",
       "  'to',\n",
       "  'how',\n",
       "  'much',\n",
       "  'they',\n",
       "  'love',\n",
       "  'the',\n",
       "  'experience'],\n",
       " ['one',\n",
       "  'such',\n",
       "  'person',\n",
       "  'is',\n",
       "  'wei',\n",
       "  'changyou',\n",
       "  'from',\n",
       "  'luohe',\n",
       "  'city',\n",
       "  'henan',\n",
       "  'province']]"
      ]
     },
     "execution_count": 2,
     "metadata": {},
     "output_type": "execute_result"
    }
   ],
   "source": [
    "from gensim.utils import simple_preprocess\n",
    "# Tokenize the content into sentences and then into words\n",
    "tokenized_sentences_alt = [simple_preprocess(sentence) for sentence in content.split('.') if sentence]\n",
    "\n",
    "# Displaying the first few tokenized sentences for verification\n",
    "tokenized_sentences_alt[:5]"
   ]
  },
  {
   "cell_type": "markdown",
   "id": "3680cd95",
   "metadata": {},
   "source": [
    "Step 1: training a Word2Vec model using the tokenized data."
   ]
  },
  {
   "cell_type": "code",
   "execution_count": 3,
   "id": "64441bf4",
   "metadata": {
    "ExecuteTime": {
     "end_time": "2023-08-19T12:56:49.582635300Z",
     "start_time": "2023-08-19T12:56:38.273602800Z"
    }
   },
   "outputs": [
    {
     "data": {
      "text/plain": [
       "[('man', 0.7951733469963074),\n",
       " ('girl', 0.7462552189826965),\n",
       " ('boy', 0.6903455853462219),\n",
       " ('mother', 0.6791630387306213),\n",
       " ('surnamed', 0.6456013321876526)]"
      ]
     },
     "execution_count": 3,
     "metadata": {},
     "output_type": "execute_result"
    }
   ],
   "source": [
    "from gensim.models import Word2Vec\n",
    "# Train a Word2Vec model using the tokenized data\n",
    "model = Word2Vec(sentences=tokenized_sentences_alt, vector_size=100, window=5, min_count=1, workers=4)\n",
    "model.train(tokenized_sentences_alt, total_examples=len(tokenized_sentences_alt), epochs=10)\n",
    "\n",
    "# Checking if the model works by finding most similar words to \"woman\"\n",
    "model.wv.most_similar(\"woman\", topn=5)\n",
    "#The Word2Vec model has been successfully trained using the provided content. As a quick check, we found the words most similar to \"woman\", and the results seem appropriate."
   ]
  },
  {
   "cell_type": "markdown",
   "id": "b09a62ea",
   "metadata": {},
   "source": [
    "Step 2: Sentimental Analysis around Women's Position"
   ]
  },
  {
   "cell_type": "code",
   "execution_count": 4,
   "id": "b2e6c380",
   "metadata": {
    "ExecuteTime": {
     "end_time": "2023-08-19T12:58:48.895653500Z",
     "start_time": "2023-08-19T12:58:48.822447300Z"
    }
   },
   "outputs": [
    {
     "data": {
      "text/plain": [
       "(['abacterial', 'abalienate', 'abalienated', 'abalienating', 'abalienation'],\n",
       " ['aah', 'abacinate', 'abaddon', 'abailard', 'abalation'])"
      ]
     },
     "execution_count": 4,
     "metadata": {},
     "output_type": "execute_result"
    }
   ],
   "source": [
    "# Load positive and negative sentiment words\n",
    "with open('positive_words.txt', 'r') as file:\n",
    "    positive_words = [line.strip() for line in file.readlines()]\n",
    "\n",
    "with open('negative_words.txt', 'r') as file:\n",
    "    negative_words = [line.strip() for line in file.readlines()]\n",
    "\n",
    "# Displaying a few positive and negative words for verification\n",
    "positive_words[:5], negative_words[:5]"
   ]
  },
  {
   "cell_type": "markdown",
   "id": "c4dac188",
   "metadata": {},
   "source": [
    "1.Going through each sentence that contains a female word.\n",
    "\n",
    "2.Checking for the presence of positive or negative sentiment words in the sentence.\n",
    "\n",
    "3.Counting the occurrences of each sentiment."
   ]
  },
  {
   "cell_type": "code",
   "execution_count": 5,
   "id": "6dd51db1",
   "metadata": {
    "ExecuteTime": {
     "end_time": "2023-08-19T13:00:01.761874800Z",
     "start_time": "2023-08-19T12:59:41.599148700Z"
    }
   },
   "outputs": [
    {
     "data": {
      "text/plain": [
       "(1177, 1025)"
      ]
     },
     "execution_count": 5,
     "metadata": {},
     "output_type": "execute_result"
    }
   ],
   "source": [
    "# Define the list of female words\n",
    "female_words = [\"woman\", \"women\", \"female\", \"girl\", \"lady\", \"ladies\", \"daughter\", \"mother\", \"wife\", \"sister\"]\n",
    "\n",
    "# Initialize counters\n",
    "positive_count = 0\n",
    "negative_count = 0\n",
    "\n",
    "# Analyze sentiment around female words\n",
    "for sentence in tokenized_sentences_alt:\n",
    "    if any(word in sentence for word in female_words):\n",
    "        if any(word in sentence for word in positive_words):\n",
    "            positive_count += 1\n",
    "        if any(word in sentence for word in negative_words):\n",
    "            negative_count += 1\n",
    "\n",
    "positive_count, negative_count #Positive sentiments: 1177; Negative sentiments: 1025"
   ]
  },
  {
   "cell_type": "markdown",
   "id": "61e5fcdc",
   "metadata": {},
   "source": [
    "Step 3: Mean Semantic Similarity of Man, Woman, and Jobs"
   ]
  },
  {
   "cell_type": "markdown",
   "id": "ff45ce8b",
   "metadata": {},
   "source": [
    "1 Calculate the mean semantic distance between female words and job words (D1).\n",
    "\n",
    "2 Calculate the mean semantic distance between male words and job words (D2).\n",
    "\n",
    "3 Calculate$D3=D1−D2$ for each job word.\n",
    "\n",
    "4 Plot the regression line based on the data."
   ]
  },
  {
   "cell_type": "code",
   "execution_count": 6,
   "id": "1f3ae3fa",
   "metadata": {
    "ExecuteTime": {
     "end_time": "2023-08-19T13:05:07.253056400Z",
     "start_time": "2023-08-19T13:05:07.228460100Z"
    }
   },
   "outputs": [
    {
     "data": {
      "text/plain": [
       "[('teacher', -0.02701863348484035),\n",
       " ('lawyer', -0.061400996148586295),\n",
       " ('doctor', -0.022170440852642026),\n",
       " ('engineer', -0.041817082697525626),\n",
       " ('artist', -0.030048611760139454),\n",
       " ('nurse', -0.05351903215050696),\n",
       " ('policeman', 0.0),\n",
       " ('firefighter', -0.051564170420169864),\n",
       " ('manager', -0.015045663341879845),\n",
       " ('chef', -0.039160412549972545)]"
      ]
     },
     "execution_count": 6,
     "metadata": {},
     "output_type": "execute_result"
    }
   ],
   "source": [
    "# Define the list of male words and job words\n",
    "male_words = [\"man\", \"men\", \"male\", \"boy\", \"gentleman\", \"gentlemen\", \"son\", \"father\", \"husband\", \"brother\"]\n",
    "job_words = [\"teacher\", \"lawyer\", \"doctor\", \"engineer\", \"artist\", \"nurse\", \"policeman\", \"firefighter\", \"manager\", \"chef\"]\n",
    "\n",
    "# Reset the lists to store D1, D2, and D3 values\n",
    "D1_values = []\n",
    "D2_values = []\n",
    "D3_values = []\n",
    "\n",
    "# Function to safely compute similarity\n",
    "def safe_similarity(w1, w2):\n",
    "    try:\n",
    "        return model.wv.similarity(w1, w2)\n",
    "    except KeyError:\n",
    "        return 0\n",
    "\n",
    "# Calculate D1, D2, and D3 for each job word with safe similarity check\n",
    "for job in job_words:\n",
    "    D1 = sum([safe_similarity(f_word, job) for f_word in female_words]) / len(female_words)\n",
    "    D2 = sum([safe_similarity(m_word, job) for m_word in male_words]) / len(male_words)\n",
    "    D3 = D1 - D2\n",
    "    \n",
    "    D1_values.append(D1)\n",
    "    D2_values.append(D2)\n",
    "    D3_values.append(D3)\n",
    "\n",
    "# Displaying the D3 values for each job\n",
    "list(zip(job_words, D3_values)) #Negative D3 values indicate that the job word is closer in meaning to male words than to female words. The magnitude of the negative value provides a measure of this difference."
   ]
  },
  {
   "cell_type": "code",
   "execution_count": null,
   "id": "14cbf5de",
   "metadata": {
    "ExecuteTime": {
     "end_time": "2023-08-19T13:07:40.408783700Z",
     "start_time": "2023-08-19T13:07:39.683395800Z"
    }
   },
   "outputs": [],
   "source": [
    "import matplotlib.pyplot as plt\n",
    "import numpy as np\n",
    "\n",
    "# Generate x values (for job words)\n",
    "x = np.arange(len(job_words))\n",
    "\n",
    "# Plotting D3 values for each job\n",
    "plt.figure(figsize=(12, 6))\n",
    "plt.bar(x, D3_values, color='skyblue')\n",
    "plt.axhline(0, color='black', linestyle='--')  # Adding a reference line at y=0\n",
    "plt.xticks(x, job_words, rotation=45)\n",
    "plt.ylabel('D3 Value')\n",
    "plt.title('Mean Semantic Distance Difference (D3) for Each Job Word')\n",
    "plt.tight_layout()\n",
    "\n",
    "# Display the plot\n",
    "plt.show()"
   ]
  },
  {
   "cell_type": "markdown",
   "id": "e1aa379c",
   "metadata": {},
   "source": [
    "Here's the bar chart showing the mean semantic distance difference (D3) for each job word.\n",
    "\n",
    "From the chart, we can observe that all jobs, except for \"manager\" (which is almost neutral), have negative D3 values. This suggests that, semantically, these job words are closer in meaning to male words than to female words in the provided content."
   ]
  },
  {
   "cell_type": "markdown",
   "id": "93c6d19e",
   "metadata": {},
   "source": [
    "plot the regression line based on the D3 values for each job word. This will help us understand the trend and relationship between the job words and the calculated D3 values."
   ]
  },
  {
   "cell_type": "code",
   "execution_count": 18,
   "id": "6116cc47",
   "metadata": {
    "ExecuteTime": {
     "end_time": "2023-08-19T13:09:10.830896Z",
     "start_time": "2023-08-19T13:09:10.703430400Z"
    }
   },
   "outputs": [
    {
     "data": {
      "image/png": "[encoded data removed]",
      "text/plain": [
       "<Figure size 1200x600 with 1 Axes>"
      ]
     },
     "metadata": {},
     "output_type": "display_data"
    }
   ],
   "source": [
    "from scipy.stats import linregress\n",
    "\n",
    "# Calculate the regression line parameters\n",
    "slope, intercept, r_value, p_value, std_err = linregress(x, D3_values)\n",
    "regression_line = slope * x + intercept\n",
    "\n",
    "# Plotting\n",
    "plt.figure(figsize=(12, 6))\n",
    "plt.bar(x, D3_values, color='skyblue', label='D3 Values')\n",
    "plt.plot(x, regression_line, color='red', linestyle='-', linewidth=2, label=f'Regression Line (R² = {r_value**2:.2f})')\n",
    "plt.axhline(0, color='black', linestyle='--')  # Adding a reference line at y=0\n",
    "plt.xticks(x, job_words, rotation=45)\n",
    "plt.ylabel('D3 Value')\n",
    "plt.title('Mean Semantic Distance Difference (D3) with Regression Line for Each Job Word')\n",
    "plt.legend()\n",
    "plt.tight_layout()\n",
    "\n",
    "# Display the plot\n",
    "plt.show()"
   ]
  }
 ],
 "metadata": {
  "kernelspec": {
   "display_name": "Python 3 (ipykernel)",
   "language": "python",
   "name": "python3"
  },
  "language_info": {
   "codemirror_mode": {
    "name": "ipython",
    "version": 3
   },
   "file_extension": ".py",
   "mimetype": "text/x-python",
   "name": "python",
   "nbconvert_exporter": "python",
   "pygments_lexer": "ipython3",
   "version": "3.9.16"
  }
 },
 "nbformat": 4,
 "nbformat_minor": 5
}
